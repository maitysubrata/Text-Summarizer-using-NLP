{
 "cells": [
  {
   "cell_type": "code",
   "execution_count": 1,
   "metadata": {},
   "outputs": [],
   "source": [
    "from nltk.tokenize import sent_tokenize\n",
    "from textblob import TextBlob\n",
    "from sumy.parsers.plaintext import PlaintextParser\n",
    "from sumy.nlp.tokenizers import Tokenizer\n",
    "from sumy.summarizers.lex_rank import LexRankSummarizer\n",
    "\n",
    "def textsummary(article):\n",
    "    def read_article(text):        \n",
    "        sentences =[]        \n",
    "        sentences = sent_tokenize(text)\n",
    "        for sentence in sentences:        \n",
    "            sentence.replace(\"[^a-zA-Z0-9]\",\" \")     \n",
    "        return sentences\n",
    "\n",
    "    sent_tok = read_article(article)\n",
    "\n",
    "    mod_sent = []\n",
    "    for tok in sent_tok:\n",
    "        blob_obj = TextBlob(tok)\n",
    "        correct_sent = str(blob_obj.correct())\n",
    "        #print(f\"\\033[94m Original Token : {tok} \\033[0m\")\n",
    "        #print(f\"\\033[92m Corrected Token: {correct_sent} \\033[92m\")\n",
    "        mod_sent.append(correct_sent)\n",
    "\n",
    "\n",
    "    Original_Text = \" \".join(mod_sent)\n",
    "\n",
    "\n",
    "    parser = PlaintextParser.from_string(Original_Text, Tokenizer(\"english\"))\n",
    "    summarizer = LexRankSummarizer()\n",
    "    # Summarize the document with 5 sentences\n",
    "    summary = summarizer(parser.document, 5)\n",
    "\n",
    "    # Store the summarized sentences in a variable\n",
    "    summarized_text = \"\\n\".join(str(sentence) for sentence in summary)\n",
    "\n",
    "    # Now you can use 'summarized_text' elsewhere in your code\n",
    "    #print(summarized_text)\n",
    "    return summarized_text\n",
    "\n"
   ]
  },
  {
   "cell_type": "code",
   "execution_count": 4,
   "metadata": {},
   "outputs": [],
   "source": [
    "## text contain wikipedia page of Albert Einstein text"
   ]
  },
  {
   "cell_type": "code",
   "execution_count": 5,
   "metadata": {},
   "outputs": [
    {
     "name": "stdout",
     "output_type": "stream",
     "text": [
      "==== Love of music ==== Einstein developed an appreciation for music at an early age.\n",
      "Of I were not a physician, I would probably be a musician.\n",
      "The theory developed in this paper later became known as Einstein's special theory of relatively.\n",
      "General relatively (of) is a theory of gravitation that was developed by Einstein between 1907 and 1915.\n",
      "==== Einstein–Tartar theory ====\n"
     ]
    }
   ],
   "source": [
    "article = textsummary(text)\n",
    "print(article)"
   ]
  }
 ],
 "metadata": {
  "kernelspec": {
   "display_name": "Python 3",
   "language": "python",
   "name": "python3"
  },
  "language_info": {
   "codemirror_mode": {
    "name": "ipython",
    "version": 3
   },
   "file_extension": ".py",
   "mimetype": "text/x-python",
   "name": "python",
   "nbconvert_exporter": "python",
   "pygments_lexer": "ipython3",
   "version": "3.12.2"
  }
 },
 "nbformat": 4,
 "nbformat_minor": 2
}
